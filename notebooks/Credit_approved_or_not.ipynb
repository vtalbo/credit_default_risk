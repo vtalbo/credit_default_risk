{
 "cells": [
  {
   "cell_type": "code",
   "execution_count": 20,
   "id": "arbitrary-istanbul",
   "metadata": {
    "ExecuteTime": {
     "end_time": "2021-06-13T10:59:24.138243Z",
     "start_time": "2021-06-13T10:59:24.119890Z"
    }
   },
   "outputs": [],
   "source": [
    "import pandas as pd"
   ]
  },
  {
   "cell_type": "code",
   "execution_count": 21,
   "id": "different-gothic",
   "metadata": {
    "ExecuteTime": {
     "end_time": "2021-06-13T10:59:27.823154Z",
     "start_time": "2021-06-13T10:59:25.694832Z"
    }
   },
   "outputs": [],
   "source": [
    "test = pd.read_csv('m_test.csv', index_col = 'SK_ID_CURR')"
   ]
  },
  {
   "cell_type": "code",
   "execution_count": 22,
   "id": "quantitative-minority",
   "metadata": {
    "ExecuteTime": {
     "end_time": "2021-06-13T10:59:31.661563Z",
     "start_time": "2021-06-13T10:59:27.826998Z"
    }
   },
   "outputs": [
    {
     "name": "stdout",
     "output_type": "stream",
     "text": [
      "Enter Credit ID:100001\n"
     ]
    }
   ],
   "source": [
    "credit_id = int(input(\"Enter Credit ID:\"))"
   ]
  },
  {
   "cell_type": "code",
   "execution_count": 27,
   "id": "black-astrology",
   "metadata": {
    "ExecuteTime": {
     "end_time": "2021-06-13T11:02:42.429035Z",
     "start_time": "2021-06-13T11:02:42.409168Z"
    }
   },
   "outputs": [
    {
     "data": {
      "text/plain": [
       "CREDIT_TERM                                          0.036147\n",
       "DAYS_BIRTH                                             -19241\n",
       "DAYS_EMPLOYED                                         -2329.0\n",
       "client_installments_AMT_PAYMENT_min_sum             27746.775\n",
       "AMT_ANNUITY                                           20560.5\n",
       "                                                      ...    \n",
       "AMT_REQ_CREDIT_BUREAU_MON                                 0.0\n",
       "client_cash_NAME_CONTRACT_STATUS_Signed_mean_max          0.0\n",
       "client_bureau_balance_STATUS_C_mean_min                   0.0\n",
       "NAME_HOUSING_TYPE_Officeapartment                           0\n",
       "client_bureau_balance_STATUS_X_sum_max                    9.0\n",
       "Name: 100001, Length: 328, dtype: object"
      ]
     },
     "execution_count": 27,
     "metadata": {},
     "output_type": "execute_result"
    }
   ],
   "source": [
    "X = test.loc[credit_id,:]\n",
    "X"
   ]
  },
  {
   "cell_type": "code",
   "execution_count": 28,
   "id": "balanced-magnet",
   "metadata": {
    "ExecuteTime": {
     "end_time": "2021-06-13T11:02:44.549256Z",
     "start_time": "2021-06-13T11:02:44.470777Z"
    }
   },
   "outputs": [
    {
     "name": "stdout",
     "output_type": "stream",
     "text": [
      "[False]\n"
     ]
    }
   ],
   "source": [
    "# load the model from disk\n",
    "import pickle\n",
    "loaded_model = pickle.load(open('finalized_model.sav', 'rb'))\n",
    "result = loaded_model.predict(X.to_numpy().reshape(1,-1) )\n",
    "print(result)"
   ]
  },
  {
   "cell_type": "code",
   "execution_count": null,
   "id": "human-headquarters",
   "metadata": {},
   "outputs": [],
   "source": []
  }
 ],
 "metadata": {
  "kernelspec": {
   "display_name": "Python 3",
   "language": "python",
   "name": "python3"
  },
  "language_info": {
   "codemirror_mode": {
    "name": "ipython",
    "version": 3
   },
   "file_extension": ".py",
   "mimetype": "text/x-python",
   "name": "python",
   "nbconvert_exporter": "python",
   "pygments_lexer": "ipython3",
   "version": "3.7.10"
  },
  "toc": {
   "base_numbering": 1,
   "nav_menu": {},
   "number_sections": false,
   "sideBar": true,
   "skip_h1_title": false,
   "title_cell": "Table of Contents",
   "title_sidebar": "Contents",
   "toc_cell": false,
   "toc_position": {},
   "toc_section_display": true,
   "toc_window_display": true
  }
 },
 "nbformat": 4,
 "nbformat_minor": 5
}
